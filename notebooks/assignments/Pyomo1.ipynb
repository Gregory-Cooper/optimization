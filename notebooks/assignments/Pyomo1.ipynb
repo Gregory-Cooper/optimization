{
 "cells": [
  {
   "attachments": {},
   "cell_type": "markdown",
   "metadata": {},
   "source": [
    "# Pyomo Homework 1"
   ]
  },
  {
   "cell_type": "code",
   "execution_count": null,
   "metadata": {},
   "outputs": [],
   "source": [
    "# This code cell installs packages on Colab\n",
    "\n",
    "import sys\n",
    "if \"google.colab\" in sys.modules:\n",
    "    !wget \"https://raw.githubusercontent.com/ndcbe/CBE60499/main/notebooks/helper.py\"\n",
    "    import helper\n",
    "    helper.install_idaes()\n",
    "    helper.install_ipopt()\n",
    "    helper.install_glpk()\n",
    "    helper.download_data(['knapsack_data.xlsx','knapsack_data.csv'])"
   ]
  },
  {
   "cell_type": "code",
   "execution_count": null,
   "metadata": {},
   "outputs": [],
   "source": [
    "## IMPORT LIBRARIES\n",
    "from pyomo.environ import *\n",
    "import pandas as pd"
   ]
  },
  {
   "cell_type": "markdown",
   "metadata": {},
   "source": [
    "Special thanks to the Pyomo team for create these excercises as part of their excellent PyomoFest workshop."
   ]
  },
  {
   "cell_type": "markdown",
   "metadata": {},
   "source": [
    "## Pyomo Fundamentals"
   ]
  },
  {
   "cell_type": "markdown",
   "metadata": {},
   "source": [
    "### Knapsack example\n",
    "\n",
    "Solve the knapsack problem given below using GLPK and answer the following questions:\n",
    "\n",
    "1. Which items are acquired in the optimal solution?\n",
    "\n",
    "2. What is the value of the selected items?"
   ]
  },
  {
   "cell_type": "code",
   "execution_count": null,
   "metadata": {},
   "outputs": [],
   "source": [
    "A = ['hammer', 'wrench', 'screwdriver', 'towel']\n",
    "b = {'hammer':8, 'wrench':3, 'screwdriver':6, 'towel':11}\n",
    "w = {'hammer':5, 'wrench':7, 'screwdriver':4, 'towel':3}\n",
    "W_max = 14\n",
    "\n",
    "model = ConcreteModel()\n",
    "model.x = Var( A, within=Binary )\n",
    "\n",
    "model.obj = Objective(\n",
    "    expr = sum( b[i]*model.x[i] for i in A ), \n",
    "    sense = maximize )\n",
    "\n",
    "model.weight_con = Constraint(\n",
    "    expr = sum( w[i]*model.x[i] for i in A ) <= W_max )\n",
    "\n",
    "# Add your solution here\n",
    "\n",
    "model.display()"
   ]
  },
  {
   "cell_type": "markdown",
   "metadata": {},
   "source": [
    "**Question Answers**\n",
    "\n",
    "1. *Fill in here*\n",
    "\n",
    "2. *Fill in here*"
   ]
  },
  {
   "cell_type": "markdown",
   "metadata": {},
   "source": [
    "### Knapsack example with improve printing\n",
    "\n",
    "Complete the missing lines in the code below to produce formatted output: print the total weight, the value of the items selected (the objective), and the items acquired in the optimal solution. Note, the Pyomo value function should be used to get the floating point value of Pyomo modeling components (e.g., print(value(model.x[i]))."
   ]
  },
  {
   "cell_type": "code",
   "execution_count": null,
   "metadata": {},
   "outputs": [],
   "source": [
    "A = ['hammer', 'wrench', 'screwdriver', 'towel']\n",
    "b = {'hammer':8, 'wrench':3, 'screwdriver':6, 'towel':11}\n",
    "w = {'hammer':5, 'wrench':7, 'screwdriver':4, 'towel':3}\n",
    "W_max = 14\n",
    "\n",
    "model = ConcreteModel()\n",
    "model.x = Var( A, within=Binary )\n",
    "\n",
    "model.obj = Objective(\n",
    "    expr = sum( b[i]*model.x[i] for i in A ), \n",
    "    sense = maximize )\n",
    "\n",
    "model.weight_con = Constraint(\n",
    "    expr = sum( w[i]*model.x[i] for i in A ) <= W_max )\n",
    "\n",
    "opt = SolverFactory('glpk')\n",
    "opt_success = opt.solve(model)\n",
    "\n",
    "total_weight = sum( w[i]*value(model.x[i]) for i in A )\n",
    "# Add your solution here\n",
    "\n",
    "print('%12s %12s' % ('Item', 'Selected'))\n",
    "print('=========================')\n",
    "for i in A:\n",
    "    # Add your solution here\n",
    "print('-------------------------')"
   ]
  },
  {
   "cell_type": "markdown",
   "metadata": {},
   "source": [
    "### Changing data\n",
    "\n",
    "Using your code from **Question 1.2**, if we were to increase the value of the wrench, at what point would it become selected as part of the optimal solution?"
   ]
  },
  {
   "cell_type": "code",
   "execution_count": null,
   "metadata": {},
   "outputs": [],
   "source": [
    "# Add your solution here"
   ]
  },
  {
   "cell_type": "markdown",
   "metadata": {},
   "source": [
    "**Question Answer**\n",
    "\n",
    "*Fill in here*"
   ]
  },
  {
   "cell_type": "markdown",
   "metadata": {},
   "source": [
    "### Loading data from Excel\n",
    "\n",
    "In the code above, the data is hardcoded at the top of the file. Instead of hardcoding the data, use Python to load the data from a difference source. You may use Pandas to load data from 'knapsack_data.xlsx' into a dataframe. You will then need to write code to obtain a dictionary from the dataframe."
   ]
  },
  {
   "cell_type": "code",
   "execution_count": null,
   "metadata": {},
   "outputs": [],
   "source": [
    "df_items = pd.read_excel(https://raw.githubusercontent.com/ndcbe/optimization/main/notebooks/data/knapsack_data.xlsx', sheet_name='data', header=0, index_col=0)\n",
    "W_max = 14\n",
    "\n",
    "A = df_items.index.tolist()\n",
    "# Add your solution here\n",
    "\n",
    "model = ConcreteModel()\n",
    "model.x = Var( A, within=Binary )\n",
    "\n",
    "model.obj = Objective(\n",
    "    expr = sum( b[i]*model.x[i] for i in A ), \n",
    "    sense = maximize )\n",
    "\n",
    "model.weight_con = Constraint(\n",
    "    expr = sum( w[i]*model.x[i] for i in A ) <= W_max )\n",
    "\n",
    "opt = SolverFactory('glpk')\n",
    "opt_success = opt.solve(model)\n",
    "\n",
    "total_weight = sum( w[i]*value(model.x[i]) for i in A )\n",
    "print('Total Weight:', total_weight)\n",
    "print('Total Benefit:', value(model.obj))\n",
    "\n",
    "print('%12s %12s' % ('Item', 'Selected'))\n",
    "print('=========================')\n",
    "for i in A:\n",
    "    acquired = 'No'\n",
    "    if value(model.x[i]) >= 0.5:\n",
    "        acquired = 'Yes'\n",
    "    print('%12s %12s' % (i, acquired))\n",
    "print('-------------------------')"
   ]
  },
  {
   "cell_type": "markdown",
   "metadata": {},
   "source": [
    "### NLP vs. MIP\n",
    "\n",
    "Solve the knapsack problem with IPOPT instead of glpk. Print the solution values for model.x. What happened? Why?\n",
    "\n",
    "*Hint*: Switch `glpk` to `ipopt` in the call to `SolverFactory`."
   ]
  },
  {
   "cell_type": "code",
   "execution_count": null,
   "metadata": {},
   "outputs": [],
   "source": [
    "from pyomo.environ import *\n",
    "\n",
    "A = ['hammer', 'wrench', 'screwdriver', 'towel']\n",
    "b = {'hammer':8, 'wrench':3, 'screwdriver':6, 'towel':11}\n",
    "w = {'hammer':5, 'wrench':7, 'screwdriver':4, 'towel':3}\n",
    "W_max = 14\n",
    "\n",
    "model = ConcreteModel()\n",
    "model.x = Var( A, within=Binary )\n",
    "\n",
    "model.obj = Objective(\n",
    "    expr = sum( b[i]*model.x[i] for i in A ), \n",
    "    sense = maximize )\n",
    "\n",
    "model.weight_con = Constraint(\n",
    "    expr = sum( w[i]*model.x[i] for i in A ) <= W_max )\n",
    "\n",
    "# Add your solution here\n",
    "opt_success = opt.solve(model)\n",
    "\n",
    "model.pprint()"
   ]
  },
  {
   "cell_type": "markdown",
   "metadata": {},
   "source": [
    "**Question Answers**\n",
    "\n",
    "*Fill in here*"
   ]
  },
  {
   "cell_type": "markdown",
   "metadata": {},
   "source": [
    "## More Pyomo Fundamentals"
   ]
  },
  {
   "cell_type": "markdown",
   "metadata": {},
   "source": [
    "### Knapsack problem with rules\n",
    "\n",
    "Rules are important for defining in-dexed constraints, however, they can also be used for single (i.e. scalar) constraints. Reimplement the knapsack model from **Question 1.1** using rules for the objective and the constraints."
   ]
  },
  {
   "cell_type": "code",
   "execution_count": null,
   "metadata": {},
   "outputs": [],
   "source": [
    "# Add your solution here"
   ]
  },
  {
   "cell_type": "markdown",
   "metadata": {},
   "source": [
    "### Integer formulation of the knapsack problem\n",
    "\n",
    "Consider again the knapsack problem. Assume now that we can acquire multiple items of the same type. In this new formulation, $x_i$ is now an integer variable instead of a binary variable. One way to formulate this problem is as follows:\n",
    "\n",
    "\n",
    "$\\max_{q,x} \\sum_{i\\in{A}}v_ix_i$\n",
    "\n",
    "s.t. $\\sum_{i\\in{A}}w_ix_i\\leq W_{max}$\n",
    "\n",
    "$x_i=\\sum_{j=0}^Njq_{i,j}, \\forall i \\in{A}$\n",
    "\n",
    "$0\\leq x\\leq N$\n",
    "\n",
    "$q_{i,j} \\in {0,1}, \\forall i \\in A, j \\in {0...N}$\n",
    "\n",
    "Starting with your code from **Question 2.1**, implement this new formulation and solve. Is the solution surprising?"
   ]
  },
  {
   "cell_type": "code",
   "execution_count": null,
   "metadata": {},
   "outputs": [],
   "source": [
    "# Add your solution here"
   ]
  },
  {
   "cell_type": "markdown",
   "metadata": {},
   "source": [
    "**Question Answer**\n",
    "\n",
    "*Fill in here*"
   ]
  },
  {
   "cell_type": "code",
   "execution_count": null,
   "metadata": {},
   "outputs": [],
   "source": []
  }
 ],
 "metadata": {
  "kernelspec": {
   "display_name": "Python 3",
   "language": "python",
   "name": "python3"
  },
  "language_info": {
   "codemirror_mode": {
    "name": "ipython",
    "version": 3
   },
   "file_extension": ".py",
   "mimetype": "text/x-python",
   "name": "python",
   "nbconvert_exporter": "python",
   "pygments_lexer": "ipython3",
   "version": "3.8.6"
  }
 },
 "nbformat": 4,
 "nbformat_minor": 2
}
